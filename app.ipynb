{
 "cells": [
  {
   "cell_type": "code",
   "execution_count": null,
   "id": "4ce0231c",
   "metadata": {},
   "outputs": [],
   "source": [
    "from utils.file_loader import load_file\n",
    "from utils.llama_agent import ask_llama\n",
    "from utils.viz_tools import plot_histogram, plot_correlation\n",
    "\n",
    "file_path = \"uploaded_files/sample.csv\"\n",
    "data = load_file(file_path)\n",
    "\n",
    "# If DataFrame\n",
    "if isinstance(data, pd.DataFrame):\n",
    "    print(data.head())\n",
    "    answer = ask_llama(f\"This is the data:\\n{data.head().to_string()}\\nGive me a summary analysis.\")\n",
    "    print(answer)\n",
    "    plot_correlation(data)\n",
    "\n",
    "# If text\n",
    "elif isinstance(data, str):\n",
    "    print(\"Text content loaded.\")\n",
    "    answer = ask_llama(f\"Analyze this document:\\n{data[:2000]}\")  # truncate long docs\n",
    "    print(answer)\n"
   ]
  }
 ],
 "metadata": {
  "kernelspec": {
   "display_name": "Python 3",
   "language": "python",
   "name": "python3"
  },
  "language_info": {
   "name": "python",
   "version": "3.11.9"
  }
 },
 "nbformat": 4,
 "nbformat_minor": 5
}
